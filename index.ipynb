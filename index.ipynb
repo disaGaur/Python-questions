{
 "cells": [
  {
   "cell_type": "code",
   "execution_count": 2,
   "metadata": {},
   "outputs": [],
   "source": [
    "#Arrays"
   ]
  },
  {
   "cell_type": "code",
   "execution_count": 7,
   "metadata": {},
   "outputs": [
    {
     "name": "stdout",
     "output_type": "stream",
     "text": [
      "The sum of array element is :  6\n"
     ]
    }
   ],
   "source": [
    "#Sum of an array\n",
    "def sum(arr):\n",
    "    sum = 0\n",
    "    for i in arr:\n",
    "        sum = sum + i\n",
    "    return sum\n",
    "\n",
    "arr = [1 , 2 , 3]\n",
    "n = len(arr)\n",
    "res = sum(arr)\n",
    "print(\"The sum of array element is : \" , res)"
   ]
  },
  {
   "cell_type": "code",
   "execution_count": 8,
   "metadata": {},
   "outputs": [
    {
     "name": "stdout",
     "output_type": "stream",
     "text": [
      "Largest element in an array is :  10\n"
     ]
    }
   ],
   "source": [
    "#Largest element in an array\n",
    "def large(arr , n):\n",
    "    result = max(arr)\n",
    "    return result\n",
    "\n",
    "arr = [1 , 2 , 3 , 4 , 5 , 6 , 7 , 8 , 9 , 10]\n",
    "n = len(arr)\n",
    "res = large(arr , n)\n",
    "print(\"Largest element in an array is : \" , res)"
   ]
  },
  {
   "cell_type": "code",
   "execution_count": 10,
   "metadata": {},
   "outputs": [
    {
     "name": "stdout",
     "output_type": "stream",
     "text": [
      "Original array :  [1, 2, 3, 4]\n",
      "Rotated array :  [3, 4, 1, 2]\n"
     ]
    }
   ],
   "source": [
    "#Rotate an array\n",
    "def rotate(arr , d):\n",
    "    n = len(arr)\n",
    "    arr[:] = arr[d : n] + arr[0 : d]\n",
    "    return arr\n",
    "\n",
    "arr = [1 , 2 , 3 , 4]\n",
    "print(\"Original array : \" , arr)\n",
    "print(\"Rotated array : \" , rotate(arr , 2))"
   ]
  },
  {
   "cell_type": "code",
   "execution_count": 12,
   "metadata": {},
   "outputs": [
    {
     "name": "stdout",
     "output_type": "stream",
     "text": [
      "Original array :  [12, 1, 33, 2, 10]\n",
      "33 2 10 12 1 "
     ]
    }
   ],
   "source": [
    "#Split an array\n",
    "def splitting(arr , n , pos):\n",
    "   b = arr[ : pos]\n",
    "   return(arr[pos ::] + b[ ::])\n",
    "\n",
    "arr = [12 , 1 , 33 , 2 , 10]\n",
    "print(\"Original array : \" , arr)\n",
    "n = len(arr)\n",
    "pos = 2\n",
    "arr = splitting(arr , n , pos)\n",
    "for i in range(0 , n):\n",
    "   print(arr[i] , end = \" \")"
   ]
  },
  {
   "cell_type": "code",
   "execution_count": 1,
   "metadata": {},
   "outputs": [
    {
     "name": "stdout",
     "output_type": "stream",
     "text": [
      "Result :  4\n"
     ]
    }
   ],
   "source": [
    "#Return the remainder of the product of all elements of an array\n",
    "def rem(arr , n , num):\n",
    "    prod = 1\n",
    "    for i in range(0 , n):\n",
    "        res = (prod * arr[i]) % n\n",
    "        return res\n",
    "    \n",
    "arr = [100, 10, 5, 25, 35, 14]\n",
    "n = len(arr)\n",
    "num = input(\"Enter the divider : \")\n",
    "\n",
    "result = rem(arr , n , num)\n",
    "print(\"Result : \" ,  result)"
   ]
  },
  {
   "cell_type": "code",
   "execution_count": 2,
   "metadata": {},
   "outputs": [
    {
     "ename": "IndexError",
     "evalue": "list index out of range",
     "output_type": "error",
     "traceback": [
      "\u001b[1;31m---------------------------------------------------------------------------\u001b[0m",
      "\u001b[1;31mIndexError\u001b[0m                                Traceback (most recent call last)",
      "Cell \u001b[1;32mIn[2], line 20\u001b[0m\n\u001b[0;32m     18\u001b[0m arr \u001b[38;5;241m=\u001b[39m [\u001b[38;5;241m6\u001b[39m , \u001b[38;5;241m5\u001b[39m , \u001b[38;5;241m4\u001b[39m , \u001b[38;5;241m3\u001b[39m]\n\u001b[0;32m     19\u001b[0m n \u001b[38;5;241m=\u001b[39m \u001b[38;5;28mlen\u001b[39m(arr)\n\u001b[1;32m---> 20\u001b[0m res \u001b[38;5;241m=\u001b[39m \u001b[43mmonotonicelt\u001b[49m\u001b[43m(\u001b[49m\u001b[43marr\u001b[49m\u001b[43m \u001b[49m\u001b[43m,\u001b[49m\u001b[43m \u001b[49m\u001b[43mn\u001b[49m\u001b[43m)\u001b[49m\n\u001b[0;32m     21\u001b[0m \u001b[38;5;28mprint\u001b[39m(\u001b[38;5;124m\"\u001b[39m\u001b[38;5;124mResult : \u001b[39m\u001b[38;5;124m\"\u001b[39m , res)\n",
      "Cell \u001b[1;32mIn[2], line 12\u001b[0m, in \u001b[0;36mmonotonicelt\u001b[1;34m(arr, n)\u001b[0m\n\u001b[0;32m     10\u001b[0m decreasing \u001b[38;5;241m=\u001b[39m \u001b[38;5;28;01mTrue\u001b[39;00m\n\u001b[0;32m     11\u001b[0m \u001b[38;5;28;01mfor\u001b[39;00m i \u001b[38;5;129;01min\u001b[39;00m \u001b[38;5;28mrange\u001b[39m(\u001b[38;5;241m0\u001b[39m , n):\n\u001b[1;32m---> 12\u001b[0m     \u001b[38;5;28;01mif\u001b[39;00m arr[i] \u001b[38;5;241m<\u001b[39m \u001b[43marr\u001b[49m\u001b[43m[\u001b[49m\u001b[43mi\u001b[49m\u001b[43m \u001b[49m\u001b[38;5;241;43m+\u001b[39;49m\u001b[43m \u001b[49m\u001b[38;5;241;43m1\u001b[39;49m\u001b[43m]\u001b[49m:\n\u001b[0;32m     13\u001b[0m         decreasing \u001b[38;5;241m=\u001b[39m \u001b[38;5;28;01mFalse\u001b[39;00m\n\u001b[0;32m     14\u001b[0m         \u001b[38;5;28;01mbreak\u001b[39;00m\n",
      "\u001b[1;31mIndexError\u001b[0m: list index out of range"
     ]
    }
   ],
   "source": [
    "#Monotonic array elements\n",
    "#Montonoic elements are those which are strictly increasing or decreasing\n",
    "def monotonicelt(arr , n):\n",
    "    increasing = True\n",
    "    for i in range(0 , n):\n",
    "        if arr[i] > arr[i + 1]:\n",
    "            increasing = False\n",
    "            break\n",
    "\n",
    "    decreasing = True\n",
    "    for i in range(0 , n):\n",
    "        if arr[i] < arr[i + 1]:\n",
    "            decreasing = False\n",
    "            break\n",
    "\n",
    "    return increasing or decreasing\n",
    "\n",
    "arr = [6 , 5 , 4 , 3]\n",
    "n = len(arr)\n",
    "res = monotonicelt(arr , n)\n",
    "print(\"Result : \" , res)"
   ]
  },
  {
   "cell_type": "code",
   "execution_count": null,
   "metadata": {},
   "outputs": [],
   "source": [
    "#Lists"
   ]
  },
  {
   "cell_type": "code",
   "execution_count": 1,
   "metadata": {},
   "outputs": [
    {
     "name": "stdout",
     "output_type": "stream",
     "text": [
      "Original list :  [1, 2, 3, 4]\n",
      "List after swapping :  [4, 2, 3, 1]\n"
     ]
    }
   ],
   "source": [
    "#To swap first and last elements\n",
    "def swap(list):\n",
    "    n = len(list)\n",
    "    temp = list[0]\n",
    "    list[0] = list[n - 1]\n",
    "    list[n - 1] = temp\n",
    "    return list\n",
    "\n",
    "list = [1 , 2 , 3 , 4]\n",
    "print(\"Original list : \" , list)\n",
    "res = swap(list)\n",
    "print(\"List after swapping : \" , res)"
   ]
  },
  {
   "cell_type": "code",
   "execution_count": 2,
   "metadata": {},
   "outputs": [
    {
     "name": "stdout",
     "output_type": "stream",
     "text": [
      "Max elt :  3\n",
      "Min elt :  0\n"
     ]
    }
   ],
   "source": [
    "#Max and min elt in array\n",
    "def maximum(arr):\n",
    "    maximum = max(arr)\n",
    "    return maximum\n",
    "\n",
    "def minimum(arr):\n",
    "    minimum = min(arr)\n",
    "    return minimum\n",
    "\n",
    "arr = [0 , 1 , 2 , 3]\n",
    "res1 = maximum(arr)\n",
    "res2 = minimum(arr)\n",
    "print(\"Max elt : \" , res1)\n",
    "print(\"Min elt : \" , res2)"
   ]
  },
  {
   "cell_type": "code",
   "execution_count": 6,
   "metadata": {},
   "outputs": [
    {
     "name": "stdout",
     "output_type": "stream",
     "text": [
      "Not exist\n"
     ]
    }
   ],
   "source": [
    "#Check whether an element exists or not\n",
    "list = [1 , 2 , 4 , 5]\n",
    "i = 3\n",
    "if i in list:\n",
    "    print(\"Exist\")\n",
    "else:\n",
    "    print(\"Not exist\")"
   ]
  },
  {
   "cell_type": "code",
   "execution_count": 16,
   "metadata": {},
   "outputs": [
    {
     "name": "stdout",
     "output_type": "stream",
     "text": [
      "Using reverse()  [15, 14, 13, 12, 11, 10]\n"
     ]
    }
   ],
   "source": [
    "#Reverse a list\n",
    "lst = [10, 11, 12, 13, 14, 15]\n",
    "res = lst.reverse()\n",
    "print(\"Using reverse() \", lst)\n",
    " \n"
   ]
  },
  {
   "cell_type": "code",
   "execution_count": 20,
   "metadata": {},
   "outputs": [
    {
     "name": "stdout",
     "output_type": "stream",
     "text": [
      "8 has occurred 5 times\n"
     ]
    }
   ],
   "source": [
    "#counting occurence of an element\n",
    "def countX(lst, x):\n",
    "    return lst.count(x)\n",
    " \n",
    " \n",
    "# Driver Code\n",
    "lst = [8, 6, 8, 10, 8, 20, 10, 8, 8]\n",
    "x = 8\n",
    "print('{} has occurred {} times'.format(x, countX(lst, x)))\n"
   ]
  },
  {
   "cell_type": "code",
   "execution_count": 27,
   "metadata": {},
   "outputs": [
    {
     "name": "stdout",
     "output_type": "stream",
     "text": [
      "45\n"
     ]
    }
   ],
   "source": [
    "#find second larget element\n",
    "list1 = [10, 20, 4, 45, 99 , 99]\n",
    " \n",
    "# new_list is a set of list1\n",
    "new_list = set(list1)\n",
    " \n",
    "# Removing the largest element from temp list\n",
    "new_list.remove(max(new_list))\n",
    " \n",
    "# Elements in original list are not changed\n",
    "# print(list1)\n",
    "print(max(new_list))"
   ]
  },
  {
   "cell_type": "code",
   "execution_count": 38,
   "metadata": {},
   "outputs": [
    {
     "name": "stdout",
     "output_type": "stream",
     "text": [
      "Even numbers : \n",
      "70\n",
      "72\n",
      "74\n",
      "76\n",
      "78\n",
      "80\n",
      "82\n",
      "84\n",
      "86\n",
      "88\n",
      "90\n",
      "92\n",
      "94\n",
      "96\n",
      "98\n",
      " Odd numbers : \n",
      "71\n",
      "73\n",
      "75\n",
      "77\n",
      "79\n",
      "81\n",
      "83\n",
      "85\n",
      "87\n",
      "89\n",
      "91\n",
      "93\n",
      "95\n",
      "97\n",
      "99\n",
      " "
     ]
    }
   ],
   "source": [
    "#Even and odd numbers in a range\n",
    "print(\"Even numbers : \")\n",
    "for even_nos in range(70 , 100 , 2):\n",
    "    print(even_nos)\n",
    "print(end = \" \")\n",
    "print(\"Odd numbers : \")\n",
    "for odd_nos in range(71 , 100 , 2):\n",
    "    print(odd_nos)\n",
    "print(end = \" \")"
   ]
  },
  {
   "cell_type": "code",
   "execution_count": 1,
   "metadata": {},
   "outputs": [
    {
     "name": "stdout",
     "output_type": "stream",
     "text": [
      "+ve numbers : \n",
      "1 2 3 4 5   \n",
      "-ve numbers :\n",
      "-5 -4 -3 -2 -1 "
     ]
    }
   ],
   "source": [
    "#To find +ve and -ve numbers in a range\n",
    "print(\"+ve numbers : \")\n",
    "start = int(input(\"Enter starting range : \"))\n",
    "end = int(input(\"Enter ending range : \"))\n",
    "for i in range(start , end + 1):\n",
    "    if i > 0:\n",
    "        print(i , end=\" \")\n",
    "print(end=\" \")\n",
    "print(\" \")\n",
    "print(\"-ve numbers :\")\n",
    "for i in range(start , end + 1):\n",
    "    if i < 0:\n",
    "        print(i , end=\" \")"
   ]
  },
  {
   "cell_type": "code",
   "execution_count": 23,
   "metadata": {},
   "outputs": [
    {
     "name": "stdout",
     "output_type": "stream",
     "text": [
      "Even numbers count is :  2\n",
      "Odd numbers count is :  3\n"
     ]
    }
   ],
   "source": [
    "#Even and odd numbers count in a list\n",
    "def evennocount(arr , n):\n",
    "    even_nos = 0\n",
    "    for i in range(0 , n):\n",
    "        if arr[i] % 2 == 0:\n",
    "            even_nos += 1\n",
    "    return even_nos\n",
    "\n",
    "def oddnocount(arr , n):\n",
    "    odd_nos = 0\n",
    "    for i in range(0 , n):\n",
    "        if arr[i] % 2 != 0:\n",
    "            odd_nos += 1\n",
    "    return odd_nos\n",
    "\n",
    "arr = [1 , 2 , 3 , 4 , 5]\n",
    "n = len(arr)\n",
    "res1 = evennocount(arr , n)\n",
    "res2 = oddnocount(arr , n)\n",
    "print(\"Even numbers count is : \" , res1)\n",
    "print(\"Odd numbers count is : \" , res2)"
   ]
  },
  {
   "cell_type": "code",
   "execution_count": 21,
   "metadata": {},
   "outputs": [
    {
     "name": "stdout",
     "output_type": "stream",
     "text": [
      "List in ascending order :  [1, 2, 3, 55, 99]\n",
      "List in descending order :  [99, 55, 3, 2, 1]\n"
     ]
    }
   ],
   "source": [
    "#Sort the list elements without using sort function\n",
    "def ascending(arr , n):\n",
    "    for i in range(0 , n):\n",
    "        for j in range(i + 1 , n):\n",
    "            if arr[i] > arr[j]:\n",
    "                temp = arr[i]\n",
    "                arr[i] = arr[j]\n",
    "                arr[j] = temp\n",
    "\n",
    "def descending(arr , n):\n",
    "    for i in range(0 , n):\n",
    "        for j in range(i + 1 , n):\n",
    "            if arr[i] < arr[j]:\n",
    "                temp = arr[i]\n",
    "                arr[i] = arr[j]\n",
    "                arr[j] = temp\n",
    "\n",
    "arr = [2 , 99 , 1 , 3 , 55]\n",
    "n = len(arr)\n",
    "ascending(arr , n)\n",
    "print(\"List in ascending order : \" , arr)\n",
    "descending(arr , n)\n",
    "print(\"List in descending order : \" , arr)"
   ]
  },
  {
   "cell_type": "code",
   "execution_count": 22,
   "metadata": {},
   "outputs": [
    {
     "name": "stdout",
     "output_type": "stream",
     "text": [
      "Original list :  [1, 2, 4, 5, 7]  \n",
      "Reversed list :  [7, 5, 4, 2, 1] "
     ]
    }
   ],
   "source": [
    "#Reverse a list without using reverse function\n",
    "lst1 = [1 ,2 , 4 ,5 ,7]\n",
    "print(\"Original list : \" , lst1 , end=\" \")\n",
    "print(\" \")\n",
    "new_list = lst1[ :: -1]\n",
    "print(\"Reversed list : \" , new_list , end=\" \")"
   ]
  },
  {
   "cell_type": "code",
   "execution_count": null,
   "metadata": {},
   "outputs": [],
   "source": [
    "#Tuples"
   ]
  },
  {
   "cell_type": "code",
   "execution_count": 25,
   "metadata": {},
   "outputs": [
    {
     "name": "stdout",
     "output_type": "stream",
     "text": [
      "The size of the tuple is: 88 bytes\n"
     ]
    }
   ],
   "source": [
    "#Find sie of a tuple\n",
    "import sys\n",
    "my_tuple = (1, 2, 3, 'a', 'b', 'c')\n",
    "size = sys.getsizeof(my_tuple)\n",
    "print(f\"The size of the tuple is: {size} bytes\")\n"
   ]
  },
  {
   "cell_type": "code",
   "execution_count": 29,
   "metadata": {},
   "outputs": [
    {
     "name": "stdout",
     "output_type": "stream",
     "text": [
      "Original tuple :  (3, 99, 2, 1, 100)  \n",
      "Minimum elts :  (1, 2)\n",
      "Max elts :  (99, 100)\n"
     ]
    }
   ],
   "source": [
    "#find k min and max elts in a tuple\n",
    "tuple1 = (3, 99 , 2 ,1 , 100)\n",
    "print(\"Original tuple : \" , tuple1 , end = \" \")\n",
    "print(\" \")\n",
    "k = int(input(\"Enter how many max and min elements you want to find : \"))\n",
    "test_tup = list(tuple1)\n",
    "temp = sorted(tuple1)\n",
    "res1 = tuple(temp[:k])\n",
    "print(\"Minimum elts : \" , res1)\n",
    "res2 = tuple(temp[-k:])\n",
    "print(\"Max elts : \" , res2)"
   ]
  },
  {
   "cell_type": "code",
   "execution_count": 30,
   "metadata": {},
   "outputs": [
    {
     "name": "stdout",
     "output_type": "stream",
     "text": [
      "[(1, 1), (2, 8), (3, 27), (4, 64)]\n"
     ]
    }
   ],
   "source": [
    "#Create a list of tuples that show the numbers and its cubes\n",
    "list1 = [1 , 2 , 3 , 4]\n",
    "res = [(val , val**3) for val in list1]\n",
    "print(res)"
   ]
  },
  {
   "cell_type": "code",
   "execution_count": 36,
   "metadata": {},
   "outputs": [
    {
     "name": "stdout",
     "output_type": "stream",
     "text": [
      "Addition of tuple in list :  [1, 2, 3, 4, 5]\n"
     ]
    },
    {
     "ename": "TypeError",
     "evalue": "can only concatenate list (not \"tuple\") to list",
     "output_type": "error",
     "traceback": [
      "\u001b[1;31m---------------------------------------------------------------------------\u001b[0m",
      "\u001b[1;31mTypeError\u001b[0m                                 Traceback (most recent call last)",
      "Cell \u001b[1;32mIn[36], line 6\u001b[0m\n\u001b[0;32m      4\u001b[0m list1 \u001b[38;5;241m+\u001b[39m\u001b[38;5;241m=\u001b[39m tuple1\n\u001b[0;32m      5\u001b[0m \u001b[38;5;28mprint\u001b[39m(\u001b[38;5;124m\"\u001b[39m\u001b[38;5;124mAddition of tuple in list : \u001b[39m\u001b[38;5;124m\"\u001b[39m , \u001b[38;5;28mstr\u001b[39m(list1))\n\u001b[1;32m----> 6\u001b[0m res \u001b[38;5;241m=\u001b[39m \u001b[38;5;28mtuple\u001b[39m(\u001b[38;5;28;43mlist\u001b[39;49m\u001b[43m(\u001b[49m\u001b[43mlist1\u001b[49m\u001b[43m)\u001b[49m\u001b[43m \u001b[49m\u001b[38;5;241;43m+\u001b[39;49m\u001b[43m \u001b[49m\u001b[43mtuple1\u001b[49m)\n\u001b[0;32m      7\u001b[0m \u001b[38;5;28mprint\u001b[39m(\u001b[38;5;124m\"\u001b[39m\u001b[38;5;124mAddition of list in tuple : \u001b[39m\u001b[38;5;124m\"\u001b[39m \u001b[38;5;241m+\u001b[39m \u001b[38;5;28mstr\u001b[39m(res))\n",
      "\u001b[1;31mTypeError\u001b[0m: can only concatenate list (not \"tuple\") to list"
     ]
    }
   ],
   "source": [
    "#adding tuple to a list and vice versa\n",
    "list1 = [1 , 2 , 3]\n",
    "tuple1 = (4 , 5)\n",
    "list1 += tuple1\n",
    "print(\"Addition of tuple in list : \" , str(list1))\n",
    "res = tuple(list(list1) + tuple1)\n",
    "print(\"Addition of list in tuple : \" + str(res))"
   ]
  },
  {
   "cell_type": "code",
   "execution_count": null,
   "metadata": {},
   "outputs": [],
   "source": [
    "#Strings"
   ]
  },
  {
   "cell_type": "code",
   "execution_count": 41,
   "metadata": {},
   "outputs": [
    {
     "name": "stdout",
     "output_type": "stream",
     "text": [
      "The string is a palindrome\n"
     ]
    }
   ],
   "source": [
    "#String palindrome or not\n",
    "my_string = \"Malayalam\"  \n",
    "my_string_lower = my_string.lower()\n",
    "if my_string_lower == my_string_lower[::-1]:\n",
    "    print(\"The string is a palindrome\")\n",
    "else:\n",
    "    print(\"The string is not a palindrome\")\n"
   ]
  },
  {
   "cell_type": "code",
   "execution_count": 43,
   "metadata": {},
   "outputs": [
    {
     "name": "stdout",
     "output_type": "stream",
     "text": [
      "Reversed string :  asiD\n"
     ]
    }
   ],
   "source": [
    "#Reverse the strings\n",
    "my_string = \"Disa\"\n",
    "reversed_string = my_string[ :: -1]\n",
    "print(\"Reversed string : \" , reversed_string)"
   ]
  },
  {
   "cell_type": "code",
   "execution_count": 44,
   "metadata": {},
   "outputs": [
    {
     "name": "stdout",
     "output_type": "stream",
     "text": [
      "New string :  Disa\n"
     ]
    }
   ],
   "source": [
    "#Remove the ith character from the string\n",
    "string1 = \"Disha\"\n",
    "i = int(input(\"Enter the position :\"))\n",
    "new_string = string1[ : i] + string1[i + 1 :]\n",
    "print(\"New string : \" , new_string)"
   ]
  },
  {
   "cell_type": "code",
   "execution_count": 45,
   "metadata": {},
   "outputs": [
    {
     "name": "stdout",
     "output_type": "stream",
     "text": [
      "New string : Helloworld!\n"
     ]
    }
   ],
   "source": [
    "#Avoid spaces in the string\n",
    "string1 = \"Hello world !\"\n",
    "new_string = string1.replace(\" \" , \"\")\n",
    "print(\"New string :\" , new_string)"
   ]
  },
  {
   "cell_type": "code",
   "execution_count": 47,
   "metadata": {},
   "outputs": [
    {
     "name": "stdout",
     "output_type": "stream",
     "text": [
      "Sample\n",
      "string\n",
      "of\n"
     ]
    }
   ],
   "source": [
    "#Python code to print even length words in string\n",
    "my_string = \"Sample string of different lenghts\"\n",
    "word = my_string.split() #will convert the input into a list\n",
    "for i in word:\n",
    "    if len(i) % 2 == 0:\n",
    "        print(i)"
   ]
  },
  {
   "cell_type": "code",
   "execution_count": 49,
   "metadata": {},
   "outputs": [
    {
     "name": "stdout",
     "output_type": "stream",
     "text": [
      "HELLO world\n"
     ]
    }
   ],
   "source": [
    "#Python – Uppercase Half String\n",
    "my_string = \"hello world\"\n",
    "half_length = len(my_string)//2\n",
    "new_string = my_string[ : half_length].upper() + my_string[half_length :]\n",
    "print(new_string)"
   ]
  },
  {
   "cell_type": "code",
   "execution_count": 50,
   "metadata": {},
   "outputs": [
    {
     "name": "stdout",
     "output_type": "stream",
     "text": [
      "HellO WorlD ThiS IS A TesT\n"
     ]
    }
   ],
   "source": [
    "#capitalizing first and last letters of words in a string\n",
    "def capitalize_first_last(string):\n",
    "    words = string.title().split()\n",
    "    for i in range(len(words)):\n",
    "        if len(words[i]) > 1:\n",
    "            words[i] = words[i][:-1] + words[i][-1].upper()\n",
    "    return ' '.join(words)\n",
    "\n",
    "input_string = \"hello world this is a test\"\n",
    "result = capitalize_first_last(input_string)\n",
    "print(result)\n"
   ]
  },
  {
   "cell_type": "code",
   "execution_count": 1,
   "metadata": {},
   "outputs": [
    {
     "name": "stdout",
     "output_type": "stream",
     "text": [
      "Has atleast one digit and one character\n"
     ]
    }
   ],
   "source": [
    "#Program to check if a string has one character and one number atleast\n",
    "def checkk(my_string):\n",
    "    has_letter = any(char.isalpha() for char in my_string)\n",
    "    has_digit = any(char.isdigit() for char in my_string)\n",
    "    return has_letter and has_digit\n",
    "\n",
    "my_string = \"abcd123\"\n",
    "if checkk(my_string):\n",
    "    print(\"Has atleast one digit and one character\")\n",
    "else:\n",
    "    print(\"No digits and letters\")"
   ]
  },
  {
   "cell_type": "code",
   "execution_count": 2,
   "metadata": {},
   "outputs": [
    {
     "name": "stdout",
     "output_type": "stream",
     "text": [
      "All vowels are present\n"
     ]
    }
   ],
   "source": [
    "#Python Program to Accept the Strings Which Contains all Vowels\n",
    "def vowels(my_string):\n",
    "    return all(char in my_string.lower() for char in \"aeiou\")\n",
    "\n",
    "my_string = \"Hello my name is Disa Gaur\"\n",
    "if vowels(my_string):\n",
    "    print(\"All vowels are present\")\n",
    "else:\n",
    "    print(\"All vowels are not present\")"
   ]
  },
  {
   "cell_type": "code",
   "execution_count": 5,
   "metadata": {},
   "outputs": [
    {
     "name": "stdout",
     "output_type": "stream",
     "text": [
      "Number of similar characters in string1 and string2 are :  2\n"
     ]
    }
   ],
   "source": [
    "#Python code to count the numbers of sam or similar characters in two differnt strings\n",
    "def checkk(string1 , string2):\n",
    "    return len(set(string1) & set(string2))     #find the length of string1 and 2 and converts it into sets\n",
    "\n",
    "string1 = \"Hello\"\n",
    "string2 = \"World\"\n",
    "res =  checkk(string1 , string2)\n",
    "print(\"Number of similar characters in string1 and string2 are : \" , res)\n"
   ]
  },
  {
   "cell_type": "code",
   "execution_count": 9,
   "metadata": {},
   "outputs": [
    {
     "name": "stdout",
     "output_type": "stream",
     "text": [
      "Total number of vowels here are : 9\n"
     ]
    }
   ],
   "source": [
    "#Count number of vowels in a string\n",
    "def vowelscount(str):\n",
    "    count = 0\n",
    "    vowels = \"aeiouAEIOU\"\n",
    "    for char in str:\n",
    "        if char in vowels:\n",
    "            count += 1\n",
    "    return count\n",
    "\n",
    "str = \"Hello my name is Disa Gaur\"\n",
    "result = vowelscount(str)\n",
    "print(\"Total number of vowels here are :\" , result )"
   ]
  },
  {
   "cell_type": "code",
   "execution_count": 8,
   "metadata": {},
   "outputs": [
    {
     "name": "stdout",
     "output_type": "stream",
     "text": [
      "Total number of consonents are :  17\n"
     ]
    }
   ],
   "source": [
    "#count number of consonents in string\n",
    "def consonents(str):\n",
    "    count = 0\n",
    "    vowels = \"aeiouAEIOU\"\n",
    "    for char in str:\n",
    "        if char not in vowels:\n",
    "            count += 1\n",
    "    return count\n",
    "\n",
    "str = \"Hello my name is Disa Gaur\"\n",
    "result = consonents(str)\n",
    "print(\"Total number of consonents are : \" , result)\n"
   ]
  },
  {
   "cell_type": "code",
   "execution_count": 12,
   "metadata": {},
   "outputs": [
    {
     "name": "stdout",
     "output_type": "stream",
     "text": [
      "After removing duplicate elements :   HelomynaisDGur\n"
     ]
    }
   ],
   "source": [
    "#Python code to remove duplicate elements from the string\n",
    "def duplicate(my_string):\n",
    "    unique_elt = \" \"\n",
    "    for char in my_string:\n",
    "        if char not in unique_elt:\n",
    "            unique_elt += char\n",
    "    return unique_elt\n",
    "\n",
    "my_string = \"Hello my name is Disa Gaur\"\n",
    "result = duplicate(my_string)\n",
    "print(f\"After removing duplicate elements : \" ,result)\n"
   ]
  },
  {
   "cell_type": "code",
   "execution_count": 13,
   "metadata": {},
   "outputs": [
    {
     "name": "stdout",
     "output_type": "stream",
     "text": [
      "The least frequent character is 'h'\n",
      "The most frequent character is 'l'\n"
     ]
    }
   ],
   "source": [
    "#Least and most frequent elements in the string\n",
    "def least_and_most_frequent_elements(s):\n",
    "    char_count = {}\n",
    "    \n",
    "    # Count occurrences of each character\n",
    "    for char in s:\n",
    "        if char in char_count:\n",
    "            char_count[char] += 1\n",
    "        else:\n",
    "            char_count[char] = 1\n",
    "    \n",
    "    # Find the least and most frequent characters\n",
    "    least_freq_char = min(char_count, key=char_count.get)\n",
    "    most_freq_char = max(char_count, key=char_count.get)\n",
    "    \n",
    "    return least_freq_char, most_freq_char\n",
    "\n",
    "# Test the function\n",
    "test_string = \"hello\"\n",
    "least, most = least_and_most_frequent_elements(test_string)\n",
    "print(f\"The least frequent character is '{least}'\")\n",
    "print(f\"The most frequent character is '{most}'\")\n"
   ]
  },
  {
   "cell_type": "code",
   "execution_count": 16,
   "metadata": {},
   "outputs": [
    {
     "name": "stdout",
     "output_type": "stream",
     "text": [
      "The characters with odd frequency are: ['h', 'e', 'o']\n"
     ]
    }
   ],
   "source": [
    "#Odd frequency characters in string\n",
    "def odd_frequency_characters(s):\n",
    "    odd_chars = []\n",
    "    for char in s:\n",
    "        if s.count(char) % 2 != 0 and char not in odd_chars:\n",
    "            odd_chars.append(char)\n",
    "    return odd_chars\n",
    "\n",
    "test_string = \"hello\"\n",
    "odd_frequency = odd_frequency_characters(test_string)\n",
    "print(f\"The characters with odd frequency are: {odd_frequency}\")\n"
   ]
  },
  {
   "cell_type": "code",
   "execution_count": 20,
   "metadata": {},
   "outputs": [
    {
     "name": "stdout",
     "output_type": "stream",
     "text": [
      "Number of digits in string :  {'1': 1, '2': 1, '3': 1, '4': 1, '5': 1, '6': 3} "
     ]
    }
   ],
   "source": [
    "#frequency of numbers\n",
    "def numbers(my_string):\n",
    "    num_count = {}\n",
    "    for char in my_string:\n",
    "        if char.isdigit():\n",
    "            if char in num_count:\n",
    "                num_count[char] += 1\n",
    "            else:\n",
    "                num_count[char] = 1\n",
    "    return num_count\n",
    "\n",
    "my_string = \"abc123 def45666\"\n",
    "res = numbers(my_string)\n",
    "print(\"Number of digits in string : \" , res , end = \" \")"
   ]
  },
  {
   "cell_type": "code",
   "execution_count": 23,
   "metadata": {},
   "outputs": [
    {
     "name": "stdout",
     "output_type": "stream",
     "text": [
      "The special character(s) in the string are: ! ?\n"
     ]
    }
   ],
   "source": [
    "#To find any spl character\n",
    "import string\n",
    "\n",
    "def find_special_characters(s):\n",
    "    special_chars = [char for char in s if char in string.punctuation]\n",
    "    return special_chars\n",
    "\n",
    "# Test the function\n",
    "test_string = \"Hello! How are you? 123\"\n",
    "special_chars = find_special_characters(test_string)\n",
    "\n",
    "if special_chars:\n",
    "    print(f\"The special character(s) in the string are: {' '.join(special_chars)}\")\n",
    "else:\n",
    "    print(\"No special characters found in the string.\")\n"
   ]
  },
  {
   "cell_type": "code",
   "execution_count": 24,
   "metadata": {},
   "outputs": [
    {
     "name": "stdout",
     "output_type": "stream",
     "text": [
      "['Hello', 'name', 'Disa', 'Gaur']\n"
     ]
    }
   ],
   "source": [
    "#To find words of size greater than k\n",
    "sentence = \"Hello my name is Disa Gaur\"\n",
    "length = 3\n",
    "print([word for word in sentence.split() if len(word) > length ])"
   ]
  },
  {
   "cell_type": "code",
   "execution_count": 1,
   "metadata": {},
   "outputs": [
    {
     "name": "stdout",
     "output_type": "stream",
     "text": [
      "Matrix before changing : \n",
      "\n",
      "['c1', 'c2', 'c3']\n",
      "[10, 20, 30]\n",
      "[40, 50, 60]\n",
      "[70, 80, 90]\n",
      "Matrix after changing : \n",
      "\n",
      "['c3', 'c2', 'c1']\n",
      "[30, 20, 10]\n",
      "[60, 50, 40]\n",
      "[90, 80, 70]\n"
     ]
    }
   ],
   "source": [
    "#Matrix reverse\n",
    "m1 = [['c1' , 'c2' , 'c3'],\n",
    "      [10 , 20 , 30],\n",
    "      [40 , 50 , 60],\n",
    "      [70 , 80 , 90],\n",
    "      ]\n",
    "\n",
    "m2 = []\n",
    "n = len(m1)\n",
    "for i in range(0 , n):\n",
    "    m2.append(m1[i][ ::-1])\n",
    "print(\"Matrix before changing : \\n\" )\n",
    "for rows in m1:\n",
    "    print(rows)\n",
    "print(\"Matrix after changing : \\n\")\n",
    "for rows in m2:\n",
    "    print(rows)"
   ]
  },
  {
   "cell_type": "code",
   "execution_count": 2,
   "metadata": {},
   "outputs": [
    {
     "name": "stdout",
     "output_type": "stream",
     "text": [
      "Matrix before changing : \n",
      "\n",
      "['c1', 'c2', 'c3']\n",
      "[10, 20, 30]\n",
      "[40, 50, 60]\n",
      "[70, 80, 90]\n",
      "Matrix after changing : \n",
      "\n",
      "['c3', 'c2', 'c1']\n",
      "[30, 20, 10]\n",
      "[60, 50, 40]\n",
      "[90, 80, 70]\n"
     ]
    }
   ],
   "source": [
    "m1 = [['c1' , 'c2' , 'c3'],\n",
    "      [10 , 20 , 30],\n",
    "      [40 , 50 , 60],\n",
    "      [70 , 80 , 90],\n",
    "      ]\n",
    "m2 = []\n",
    "n = len(m1)\n",
    "for i in range(0 , n):\n",
    "    m2.append(m1[i][ ::-1])\n",
    "print(\"Matrix before changing : \\n\")\n",
    "for rows in m1:\n",
    "    print(rows)\n",
    "print(\"Matrix after changing : \\n\")\n",
    "for rows in m2:\n",
    "    print(rows)\n"
   ]
  },
  {
   "cell_type": "code",
   "execution_count": 6,
   "metadata": {},
   "outputs": [
    {
     "ename": "IndexError",
     "evalue": "list index out of range",
     "output_type": "error",
     "traceback": [
      "\u001b[1;31m---------------------------------------------------------------------------\u001b[0m",
      "\u001b[1;31mIndexError\u001b[0m                                Traceback (most recent call last)",
      "Cell \u001b[1;32mIn[6], line 19\u001b[0m\n\u001b[0;32m     14\u001b[0m m1 \u001b[38;5;241m=\u001b[39m [[\u001b[38;5;241m1\u001b[39m , \u001b[38;5;241m2\u001b[39m], \n\u001b[0;32m     15\u001b[0m       [\u001b[38;5;241m3\u001b[39m , \u001b[38;5;241m4\u001b[39m],\n\u001b[0;32m     16\u001b[0m       [\u001b[38;5;241m5\u001b[39m , \u001b[38;5;241m6\u001b[39m],]\n\u001b[0;32m     18\u001b[0m m2 \u001b[38;5;241m=\u001b[39m m1[:][:]\n\u001b[1;32m---> 19\u001b[0m \u001b[43mtranspose\u001b[49m\u001b[43m(\u001b[49m\u001b[43mm1\u001b[49m\u001b[43m \u001b[49m\u001b[43m,\u001b[49m\u001b[43m \u001b[49m\u001b[43mm2\u001b[49m\u001b[43m)\u001b[49m\n\u001b[0;32m     20\u001b[0m \u001b[38;5;28mprint\u001b[39m(\u001b[38;5;124m\"\u001b[39m\u001b[38;5;124mResult : \u001b[39m\u001b[38;5;130;01m\\n\u001b[39;00m\u001b[38;5;124m\"\u001b[39m)\n\u001b[0;32m     21\u001b[0m \u001b[38;5;28;01mfor\u001b[39;00m i \u001b[38;5;129;01min\u001b[39;00m \u001b[38;5;28mrange\u001b[39m(\u001b[38;5;241m3\u001b[39m):\n",
      "Cell \u001b[1;32mIn[6], line 6\u001b[0m, in \u001b[0;36mtranspose\u001b[1;34m(m1, m2)\u001b[0m\n\u001b[0;32m      4\u001b[0m \u001b[38;5;28;01mfor\u001b[39;00m i \u001b[38;5;129;01min\u001b[39;00m \u001b[38;5;28mrange\u001b[39m(\u001b[38;5;241m3\u001b[39m):\n\u001b[0;32m      5\u001b[0m     \u001b[38;5;28;01mfor\u001b[39;00m j \u001b[38;5;129;01min\u001b[39;00m \u001b[38;5;28mrange\u001b[39m(\u001b[38;5;241m2\u001b[39m):\n\u001b[1;32m----> 6\u001b[0m         m2[i][j] \u001b[38;5;241m=\u001b[39m \u001b[43mm1\u001b[49m\u001b[43m[\u001b[49m\u001b[43mj\u001b[49m\u001b[43m]\u001b[49m\u001b[43m[\u001b[49m\u001b[43mi\u001b[49m\u001b[43m]\u001b[49m\n",
      "\u001b[1;31mIndexError\u001b[0m: list index out of range"
     ]
    }
   ],
   "source": [
    "#Transpose of a matrix : \n",
    "# N= 4\n",
    "def transpose(m1 , m2):\n",
    "    for i in range(3):\n",
    "        for j in range(2):\n",
    "            m2[i][j] = m1[j][i]\n",
    "\n",
    "# m1 = [[1 , 1 , 1 , 1],\n",
    "#       [2 , 2 , 2 , 2],\n",
    "#       [3 , 3 , 3 , 3],\n",
    "#       [4 , 4 , 4 , 4],\n",
    "#       ]\n",
    "            \n",
    "m1 = [[1 , 2], \n",
    "      [3 , 4],\n",
    "      [5 , 6],]\n",
    "\n",
    "m2 = m1[:][:]\n",
    "transpose(m1 , m2)\n",
    "print(\"Result : \\n\")\n",
    "for i in range(3):\n",
    "    for j in range(2):\n",
    "        print(m2[i][j] , \" \" , end=\" \")\n",
    "    print()"
   ]
  }
 ],
 "metadata": {
  "kernelspec": {
   "display_name": "Python 3",
   "language": "python",
   "name": "python3"
  },
  "language_info": {
   "codemirror_mode": {
    "name": "ipython",
    "version": 3
   },
   "file_extension": ".py",
   "mimetype": "text/x-python",
   "name": "python",
   "nbconvert_exporter": "python",
   "pygments_lexer": "ipython3",
   "version": "3.11.3"
  }
 },
 "nbformat": 4,
 "nbformat_minor": 2
}
